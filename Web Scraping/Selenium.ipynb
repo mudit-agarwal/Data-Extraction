{
 "cells": [
  {
   "cell_type": "markdown",
   "metadata": {},
   "source": [
    "Selenium is used to interact with Web Pages. BS only worked on static things.\n",
    "\n",
    "Selenium helps us like clicking a button on a website,etc"
   ]
  },
  {
   "cell_type": "markdown",
   "metadata": {},
   "source": [
    "### 1) Selenium"
   ]
  },
  {
   "cell_type": "markdown",
   "metadata": {},
   "source": [
    "Need to install selenium and a chrome web driver to do use this package"
   ]
  },
  {
   "cell_type": "code",
   "execution_count": 6,
   "metadata": {},
   "outputs": [
    {
     "data": {
      "text/plain": [
       "\"\\nfrom seleinum import webdriver\\n\\ndriver = webdriver.Chrome(executable_path = '/Users/Mudit/Downloads')\\nprint(driver)\\n\\ndriver.get('https://codingninjas.in/')\\n\\nprint(driver.title)\\n\\n# To go back - It will go to prevoius Web Page ---\\ndriver.back()\\n\\n#To go foward ---\\ndriver.foward()\\n\\ndriver.save_screenshot('test_picture.png')\\n\\n# This helps click on a hyperlink ---\\nreg_btn = driver.find_element_by_link_text('Register')\\nreg_btn.click()\\n\\nreg_btn = driver.find_element_by_class_name('Reg')\\nreg_btn.click()\\n\\nreg_btn = driver.find_element_by_partial_link_text('Reg')\\nreg_btn.click()\\n\\n# To find multiple --- use'elemets' instead of 'element'. Works for all the above Tags\\nreg_btn = driver.find_elements_by_partial_link_text('Reg')\\nreg_btn.click()\\n\\n\\n# This will Maximize the Window ---\\ndriver.maximize_window()\\n\\n#To refresh a website ---\\ndriver.refresh()\\n\\n#To close that website --- Or if we use driver.quit(), it will close all webpages ---\\ndriver.close()\\n\\n#Gets the current URL of website\\nlink = driver.current_url()\\n\\n\\n\""
      ]
     },
     "execution_count": 6,
     "metadata": {},
     "output_type": "execute_result"
    }
   ],
   "source": [
    "'''\n",
    "from seleinum import webdriver\n",
    "\n",
    "driver = webdriver.Chrome(executable_path = '/Users/Mudit/Downloads')\n",
    "print(driver)\n",
    "\n",
    "driver.get('https://codingninjas.in/')\n",
    "\n",
    "print(driver.title)\n",
    "\n",
    "# To go back - It will go to prevoius Web Page ---\n",
    "driver.back()\n",
    "\n",
    "#To go foward ---\n",
    "driver.foward()\n",
    "\n",
    "driver.save_screenshot('test_picture.png')\n",
    "\n",
    "# This helps click on a hyperlink ---\n",
    "reg_btn = driver.find_element_by_link_text('Register')\n",
    "reg_btn.click()\n",
    "\n",
    "reg_btn = driver.find_element_by_class_name('Reg')\n",
    "reg_btn.click()\n",
    "\n",
    "reg_btn = driver.find_element_by_partial_link_text('Reg')\n",
    "reg_btn.click()\n",
    "\n",
    "# To find multiple --- use'elemets' instead of 'element'. Works for all the above Tags\n",
    "reg_btn = driver.find_elements_by_partial_link_text('Reg')\n",
    "reg_btn.click()\n",
    "\n",
    "\n",
    "# This will Maximize the Window ---\n",
    "driver.maximize_window()\n",
    "\n",
    "#To refresh a website ---\n",
    "driver.refresh()\n",
    "\n",
    "#To close that website --- Or if we use driver.quit(), it will close all webpages ---\n",
    "driver.close()\n",
    "\n",
    "#Gets the current URL of website\n",
    "link = driver.current_url()\n",
    "\n",
    "c.click() - Used to click a link\n",
    "c.clear() - Used to clear info in a clearble column\n",
    "c.get_attribute('p') - returns atttribute for 'p'\n",
    "c.is_displayed()\n",
    "c.is_enabled()\n",
    "\n",
    "\n",
    "'''"
   ]
  }
 ],
 "metadata": {
  "kernelspec": {
   "display_name": "Python 3",
   "language": "python",
   "name": "python3"
  },
  "language_info": {
   "codemirror_mode": {
    "name": "ipython",
    "version": 3
   },
   "file_extension": ".py",
   "mimetype": "text/x-python",
   "name": "python",
   "nbconvert_exporter": "python",
   "pygments_lexer": "ipython3",
   "version": "3.6.4"
  }
 },
 "nbformat": 4,
 "nbformat_minor": 2
}
