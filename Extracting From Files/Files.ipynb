{
 "cells": [
  {
   "cell_type": "markdown",
   "metadata": {},
   "source": [
    "### In order to extract data for data analysis, we use various methods\n",
    "\n",
    "1) Extract from files - CSV or TXT files\n",
    "\n",
    "2) Extract from database  - Through SQL\n",
    "\n",
    "3) Extract from API's - \n",
    "\n",
    "4) Scrap the web - BeautifulSoup etc."
   ]
  },
  {
   "cell_type": "markdown",
   "metadata": {},
   "source": [
    "### 2) Syntax"
   ]
  },
  {
   "cell_type": "markdown",
   "metadata": {},
   "source": [
    "open(file_name,mode)\n",
    "\n",
    "mode - 'r' - Read Mode\n",
    "     - 'w' - Write Mode - Problem is that if you do this,the file gets erased and you can write\n",
    "     - 'a'-  Append Mode - Hence this is a better way to write as you can write in the current file with previous data intact"
   ]
  },
  {
   "cell_type": "code",
   "execution_count": 9,
   "metadata": {},
   "outputs": [
    {
     "data": {
      "text/plain": [
       "<_io.TextIOWrapper name='Data Files/Sample Text' mode='r' encoding='cp1252'>"
      ]
     },
     "execution_count": 9,
     "metadata": {},
     "output_type": "execute_result"
    }
   ],
   "source": [
    "file_obj = open(\"Data Files/Sample Text\")\n",
    "file_obj"
   ]
  },
  {
   "cell_type": "markdown",
   "metadata": {},
   "source": [
    "#### 3) Read a File"
   ]
  },
  {
   "cell_type": "code",
   "execution_count": 13,
   "metadata": {},
   "outputs": [
    {
     "data": {
      "text/plain": [
       "'Lorem ipsum dolor sit amet, consectetur adipiscing elit. Nullam eu dui dui. Fusce nec eleifend sapien. Pellentesque tincidunt mauris orci, ultrices vulputate purus vehicula vel. In mi lorem, aliquet ac arcu vel, iaculis tristique dolor. Etiam ac odio a nulla eleifend bibendum. Nulla finibus metus pharetra aliquam bibendum. In egestas ex et tortor ultricies facilisis. Phasellus auctor ligula eu ex tincidunt, nec suscipit turpis porttitor. Quisque egestas nunc a diam blandit tempus. Pellentesque venenatis ante purus, id aliquet risus mattis vel. Proin ligula risus, malesuada ut libero sit amet, congue rutrum tortor. Nullam in tincidunt velit, non faucibus risus. Donec eget magna sit amet nibh tristique pretium. Cras eu neque vitae velit vulputate posuere. Proin suscipit varius nisi sit amet varius. Fusce sodales arcu eros, iaculis porta ante viverra eget.\\n\\nPraesent dignissim nisl odio, ut cursus velit pretium ac. Donec ut odio metus. Aliquam erat volutpat. Aenean quis pharetra purus. Donec auctor tortor pulvinar viverra laoreet. Maecenas efficitur neque vitae posuere dapibus. Quisque vestibulum ut nunc ut molestie. Ut porttitor diam vel dui tristique bibendum. Lorem ipsum dolor sit amet, consectetur adipiscing elit. Integer ut odio erat. Fusce hendrerit lacus nulla, ac lacinia augue finibus eget. Praesent molestie sed magna non scelerisque. Sed vitae neque auctor, tincidunt sapien ac, volutpat massa. Donec ac vestibulum lorem. Donec ut ipsum nibh.\\n\\nEtiam vel consequat lorem. In auctor lectus sit amet dolor laoreet, ut vehicula est semper. Curabitur ullamcorper pharetra scelerisque. Proin maximus est ac mauris lobortis, et congue erat rutrum. Vivamus sagittis nisi ac est pharetra ullamcorper. Nulla sit amet tortor vel velit varius malesuada. Donec lobortis ac nulla et semper. Suspendisse venenatis massa posuere sem ullamcorper, vel gravida augue euismod. Nunc maximus eu odio sit amet feugiat. Curabitur accumsan mollis fringilla. Pellentesque pretium euismod ipsum, vestibulum convallis libero pretium vitae. Morbi bibendum maximus cursus. Vivamus at libero elit.\\n\\nDonec ac mi ac nisl porta convallis. Duis vitae libero erat. Nunc dignissim lacinia erat, in ullamcorper lorem congue vitae. Pellentesque quis odio sed magna interdum vulputate. Orci varius natoque penatibus et magnis dis parturient montes, nascetur ridiculus mus. Sed vitae fringilla turpis. Integer sed ante nec ex ultrices euismod non in lorem. Nulla congue mauris a nisl eleifend iaculis. Pellentesque convallis bibendum neque. Nunc rhoncus pulvinar felis at pretium. Suspendisse quis quam diam. Sed eu elit purus. Quisque ullamcorper lectus ut nibh finibus, in pellentesque tellus ultricies.\\n\\nProin pharetra ante non nisl scelerisque, nec consequat risus eleifend. Fusce vitae fermentum turpis, quis fermentum erat. Praesent id enim ante. Proin sit amet elit a purus consequat dapibus quis vestibulum enim. Sed mollis elit vitae est fringilla, dignissim consectetur sem bibendum. Nulla maximus malesuada rutrum. Lorem ipsum dolor sit amet, consectetur adipiscing elit. Ut maximus neque quis interdum pulvinar. Integer cursus sem ipsum, et maximus augue tincidunt eget. Etiam quis gravida sapien. Aenean et sagittis nisi, vel pulvinar est. Integer consequat sem nec neque luctus fermentum. Sed tortor nunc, viverra eget mauris eu, ultrices accumsan lorem. Nullam dignissim nibh nec dictum fermentum. Nunc non condimentum nulla. Suspendisse a gravida lectus.'"
      ]
     },
     "execution_count": 13,
     "metadata": {},
     "output_type": "execute_result"
    }
   ],
   "source": [
    "file_obj = open(\"Data Files/Sample Text\",'r')\n",
    "file_read = file_obj.read()\n",
    "file_read"
   ]
  },
  {
   "cell_type": "markdown",
   "metadata": {},
   "source": [
    "##### If we want to read only some part of the file we do what is done below.\n",
    "\n",
    "read(n) - where 'n' represnts number of bytes to be read"
   ]
  },
  {
   "cell_type": "code",
   "execution_count": 18,
   "metadata": {},
   "outputs": [
    {
     "data": {
      "text/plain": [
       "'Lorem ipsum dolor sit amet, consectetur adipiscing elit. Nullam eu dui dui. Fusce nec eleifend sapie'"
      ]
     },
     "execution_count": 18,
     "metadata": {},
     "output_type": "execute_result"
    }
   ],
   "source": [
    "file_obj = open(\"Data Files/Sample Text\")\n",
    "file_read = file_obj.read(100)\n",
    "file_read"
   ]
  },
  {
   "cell_type": "markdown",
   "metadata": {},
   "source": [
    "##### The following below reads one line of the TXT file"
   ]
  },
  {
   "cell_type": "code",
   "execution_count": 19,
   "metadata": {},
   "outputs": [
    {
     "data": {
      "text/plain": [
       "'Lorem ipsum dolor sit amet, consectetur adipiscing elit. Nullam eu dui dui. Fusce nec eleifend sapien. Pellentesque tincidunt mauris orci, ultrices vulputate purus vehicula vel. In mi lorem, aliquet ac arcu vel, iaculis tristique dolor. Etiam ac odio a nulla eleifend bibendum. Nulla finibus metus pharetra aliquam bibendum. In egestas ex et tortor ultricies facilisis. Phasellus auctor ligula eu ex tincidunt, nec suscipit turpis porttitor. Quisque egestas nunc a diam blandit tempus. Pellentesque venenatis ante purus, id aliquet risus mattis vel. Proin ligula risus, malesuada ut libero sit amet, congue rutrum tortor. Nullam in tincidunt velit, non faucibus risus. Donec eget magna sit amet nibh tristique pretium. Cras eu neque vitae velit vulputate posuere. Proin suscipit varius nisi sit amet varius. Fusce sodales arcu eros, iaculis porta ante viverra eget.\\n'"
      ]
     },
     "execution_count": 19,
     "metadata": {},
     "output_type": "execute_result"
    }
   ],
   "source": [
    "file_obj = open(\"Data Files/Sample Text\",'r')\n",
    "file_read = file_obj.readline()\n",
    "file_read"
   ]
  },
  {
   "cell_type": "markdown",
   "metadata": {},
   "source": [
    "##### Note : If i Call this again, it will get the 2nd line"
   ]
  },
  {
   "cell_type": "code",
   "execution_count": 22,
   "metadata": {},
   "outputs": [
    {
     "data": {
      "text/plain": [
       "'Lorem ipsum dolor sit amet, consectetur adipiscing elit. Nullam eu dui dui. Fusce nec eleifend sapien. Pellentesque tincidunt mauris orci, ultrices vulputate purus vehicula vel. In mi lorem, aliquet ac arcu vel, iaculis tristique dolor. Etiam ac odio a nulla eleifend bibendum. Nulla finibus metus pharetra aliquam bibendum. In egestas ex et tortor ultricies facilisis. Phasellus auctor ligula eu ex tincidunt, nec suscipit turpis porttitor. Quisque egestas nunc a diam blandit tempus. Pellentesque venenatis ante purus, id aliquet risus mattis vel. Proin ligula risus, malesuada ut libero sit amet, congue rutrum tortor. Nullam in tincidunt velit, non faucibus risus. Donec eget magna sit amet nibh tristique pretium. Cras eu neque vitae velit vulputate posuere. Proin suscipit varius nisi sit amet varius. Fusce sodales arcu eros, iaculis porta ante viverra eget.\\n'"
      ]
     },
     "execution_count": 22,
     "metadata": {},
     "output_type": "execute_result"
    }
   ],
   "source": [
    "file_obj = open(\"Data Files/Sample Text\",'r')\n",
    "file_read = file_obj.readline(1000)\n",
    "file_read"
   ]
  },
  {
   "cell_type": "markdown",
   "metadata": {},
   "source": [
    "##### To read line by line "
   ]
  },
  {
   "cell_type": "code",
   "execution_count": 24,
   "metadata": {},
   "outputs": [
    {
     "data": {
      "text/plain": [
       "['Lorem ipsum dolor sit amet, consectetur adipiscing elit. Nullam eu dui dui. Fusce nec eleifend sapien. Pellentesque tincidunt mauris orci, ultrices vulputate purus vehicula vel. In mi lorem, aliquet ac arcu vel, iaculis tristique dolor. Etiam ac odio a nulla eleifend bibendum. Nulla finibus metus pharetra aliquam bibendum. In egestas ex et tortor ultricies facilisis. Phasellus auctor ligula eu ex tincidunt, nec suscipit turpis porttitor. Quisque egestas nunc a diam blandit tempus. Pellentesque venenatis ante purus, id aliquet risus mattis vel. Proin ligula risus, malesuada ut libero sit amet, congue rutrum tortor. Nullam in tincidunt velit, non faucibus risus. Donec eget magna sit amet nibh tristique pretium. Cras eu neque vitae velit vulputate posuere. Proin suscipit varius nisi sit amet varius. Fusce sodales arcu eros, iaculis porta ante viverra eget.\\n',\n",
       " '\\n',\n",
       " 'Praesent dignissim nisl odio, ut cursus velit pretium ac. Donec ut odio metus. Aliquam erat volutpat. Aenean quis pharetra purus. Donec auctor tortor pulvinar viverra laoreet. Maecenas efficitur neque vitae posuere dapibus. Quisque vestibulum ut nunc ut molestie. Ut porttitor diam vel dui tristique bibendum. Lorem ipsum dolor sit amet, consectetur adipiscing elit. Integer ut odio erat. Fusce hendrerit lacus nulla, ac lacinia augue finibus eget. Praesent molestie sed magna non scelerisque. Sed vitae neque auctor, tincidunt sapien ac, volutpat massa. Donec ac vestibulum lorem. Donec ut ipsum nibh.\\n',\n",
       " '\\n',\n",
       " 'Etiam vel consequat lorem. In auctor lectus sit amet dolor laoreet, ut vehicula est semper. Curabitur ullamcorper pharetra scelerisque. Proin maximus est ac mauris lobortis, et congue erat rutrum. Vivamus sagittis nisi ac est pharetra ullamcorper. Nulla sit amet tortor vel velit varius malesuada. Donec lobortis ac nulla et semper. Suspendisse venenatis massa posuere sem ullamcorper, vel gravida augue euismod. Nunc maximus eu odio sit amet feugiat. Curabitur accumsan mollis fringilla. Pellentesque pretium euismod ipsum, vestibulum convallis libero pretium vitae. Morbi bibendum maximus cursus. Vivamus at libero elit.\\n',\n",
       " '\\n',\n",
       " 'Donec ac mi ac nisl porta convallis. Duis vitae libero erat. Nunc dignissim lacinia erat, in ullamcorper lorem congue vitae. Pellentesque quis odio sed magna interdum vulputate. Orci varius natoque penatibus et magnis dis parturient montes, nascetur ridiculus mus. Sed vitae fringilla turpis. Integer sed ante nec ex ultrices euismod non in lorem. Nulla congue mauris a nisl eleifend iaculis. Pellentesque convallis bibendum neque. Nunc rhoncus pulvinar felis at pretium. Suspendisse quis quam diam. Sed eu elit purus. Quisque ullamcorper lectus ut nibh finibus, in pellentesque tellus ultricies.\\n',\n",
       " '\\n',\n",
       " 'Proin pharetra ante non nisl scelerisque, nec consequat risus eleifend. Fusce vitae fermentum turpis, quis fermentum erat. Praesent id enim ante. Proin sit amet elit a purus consequat dapibus quis vestibulum enim. Sed mollis elit vitae est fringilla, dignissim consectetur sem bibendum. Nulla maximus malesuada rutrum. Lorem ipsum dolor sit amet, consectetur adipiscing elit. Ut maximus neque quis interdum pulvinar. Integer cursus sem ipsum, et maximus augue tincidunt eget. Etiam quis gravida sapien. Aenean et sagittis nisi, vel pulvinar est. Integer consequat sem nec neque luctus fermentum. Sed tortor nunc, viverra eget mauris eu, ultrices accumsan lorem. Nullam dignissim nibh nec dictum fermentum. Nunc non condimentum nulla. Suspendisse a gravida lectus.']"
      ]
     },
     "execution_count": 24,
     "metadata": {},
     "output_type": "execute_result"
    }
   ],
   "source": [
    "file_obj = open(\"Data Files/Sample Text\",'r')\n",
    "file_read = file_obj.readlines()\n",
    "file_read"
   ]
  },
  {
   "cell_type": "markdown",
   "metadata": {},
   "source": [
    "##### Also we can read a particular line"
   ]
  },
  {
   "cell_type": "code",
   "execution_count": 30,
   "metadata": {},
   "outputs": [
    {
     "data": {
      "text/plain": [
       "'Praesent dignissim nisl odio, ut cursus velit pretium ac. Donec ut odio metus. Aliquam erat volutpat. Aenean quis pharetra purus. Donec auctor tortor pulvinar viverra laoreet. Maecenas efficitur neque vitae posuere dapibus. Quisque vestibulum ut nunc ut molestie. Ut porttitor diam vel dui tristique bibendum. Lorem ipsum dolor sit amet, consectetur adipiscing elit. Integer ut odio erat. Fusce hendrerit lacus nulla, ac lacinia augue finibus eget. Praesent molestie sed magna non scelerisque. Sed vitae neque auctor, tincidunt sapien ac, volutpat massa. Donec ac vestibulum lorem. Donec ut ipsum nibh.\\n'"
      ]
     },
     "execution_count": 30,
     "metadata": {},
     "output_type": "execute_result"
    }
   ],
   "source": [
    "file_obj = open(\"Data Files/Sample Text\",'r')\n",
    "file_read = file_obj.readlines()\n",
    "file_read[2]"
   ]
  },
  {
   "cell_type": "markdown",
   "metadata": {},
   "source": [
    "##### Always close the file"
   ]
  },
  {
   "cell_type": "code",
   "execution_count": 33,
   "metadata": {},
   "outputs": [],
   "source": [
    "file_obj.close()"
   ]
  }
 ],
 "metadata": {
  "kernelspec": {
   "display_name": "Python 3",
   "language": "python",
   "name": "python3"
  },
  "language_info": {
   "codemirror_mode": {
    "name": "ipython",
    "version": 3
   },
   "file_extension": ".py",
   "mimetype": "text/x-python",
   "name": "python",
   "nbconvert_exporter": "python",
   "pygments_lexer": "ipython3",
   "version": "3.6.4"
  }
 },
 "nbformat": 4,
 "nbformat_minor": 2
}
