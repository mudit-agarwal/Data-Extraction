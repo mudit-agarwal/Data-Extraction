{
 "cells": [
  {
   "cell_type": "markdown",
   "metadata": {},
   "source": [
    "#### API"
   ]
  },
  {
   "cell_type": "markdown",
   "metadata": {},
   "source": [
    "API's are a means of two applications to connect with each other\n",
    "\n",
    "EG. Waiter in a restraunt, Uber-Google Maps"
   ]
  },
  {
   "cell_type": "markdown",
   "metadata": {},
   "source": [
    "API works in a request-response model.\n",
    "\n",
    "API's are primarily used in DS because, if we have to get a small portion of a huge DB it would be uniwse to store that huge DB amd it would just be better to call an API to whatever data you want"
   ]
  },
  {
   "cell_type": "markdown",
   "metadata": {},
   "source": [
    "#### HTTP Protocol"
   ]
  },
  {
   "cell_type": "markdown",
   "metadata": {},
   "source": [
    "https://www.abcd.com/xyz\n",
    "\n",
    "Whatever URL we type is also an API. In this I'm calling an API to access abcd.com\n",
    "\n",
    "Protocol Identifier : http or https\n",
    "\n",
    "Host Name : abcd.com\n"
   ]
  },
  {
   "cell_type": "code",
   "execution_count": 1,
   "metadata": {},
   "outputs": [
    {
     "data": {
      "text/plain": [
       "'\\nThere are 2 methods:\\n    GET - Read\\n    POST - Write\\n'"
      ]
     },
     "execution_count": 1,
     "metadata": {},
     "output_type": "execute_result"
    }
   ],
   "source": [
    "'''\n",
    "There are 2 methods:\n",
    "    GET - Read\n",
    "    POST - Write\n",
    "'''"
   ]
  },
  {
   "cell_type": "code",
   "execution_count": 42,
   "metadata": {},
   "outputs": [
    {
     "name": "stdout",
     "output_type": "stream",
     "text": [
      "200\n"
     ]
    }
   ],
   "source": [
    "import requests\n",
    "a = requests.get('https://codingninjas.in/api/v3/courses')\n",
    "print(a.status_code)\n",
    "# Note : if you get a value in 200 range - that means the API is successfull\n",
    "# If it's in the 400 range - Unsucessfull (Eg.404)"
   ]
  },
  {
   "cell_type": "code",
   "execution_count": 43,
   "metadata": {},
   "outputs": [
    {
     "name": "stdout",
     "output_type": "stream",
     "text": [
      "200\n",
      "None\n",
      "https://codingninjas.in/api/v3/courses\n",
      "{'Date': 'Fri, 01 May 2020 14:53:44 GMT', 'Content-Type': 'application/json', 'Transfer-Encoding': 'chunked', 'Connection': 'keep-alive', 'Server': 'nginx/1.4.6 (Ubuntu)', 'X-Frame-Options': 'SAMEORIGIN', 'X-XSS-Protection': '1; mode=block', 'X-Content-Type-Options': 'nosniff', 'Access-Control-Allow-Origin': '*', 'Access-Control-Allow-Methods': 'POST, GET, PUT, DELETE, OPTIONS', 'Access-Control-Allow-Headers': 'Access-Control-Allow-Headers, Origin,Accept, X-Requested-With, Content-Type, Access-Control-Request-Method, Access-Control-Request-Headers, Authorization', 'Access-Control-Max-Age': '1728000', 'ETag': 'W/\"4515a81f604083ff29836d13c6a1cdea\"', 'Cache-Control': 'max-age=0, private, must-revalidate', 'X-Request-Id': '587e69a3-834d-4874-9513-2ee5f1387736', 'X-Runtime': '0.019916', 'Strict-Transport-Security': 'max-age=31536000; includeSubDomains;'}\n",
      "\n",
      "Fri, 01 May 2020 14:53:44 GMT\n",
      "\n",
      "{\"data\":{\"courses\":[{\"id\":21,\"title\":\"Aptitude Preparation Course\",\"online_title\":\"online-aptitude-preparation\",\"offline_title\":\"\",\"name\":\"Aptitude Preparation Course\",\"level\":\"Foundation Courses\",\"brief_intro\":\"Brief Intro\",\"preview_image_url\":\"https://ninjasfiles.s3.amazonaws.com/0000000000001178.png\",\"available_online\":true,\"available_offline\":false,\"is_career_track\":false},{\"id\":33,\"title\":\"Android Development with Kotlin\",\"online_title\":\"online-android-Development-kotlin\",\"offline_title\":\"\",\"name\":\"Android Development with Kotlin\",\"level\":\"Development Courses\",\"brief_intro\":\"Android Development Kotlin\",\"preview_image_url\":\"https://ninjasfiles.s3.amazonaws.com/0000000000001175.png\",\"available_online\":true,\"available_offline\":false,\"is_career_track\":false},{\"id\":5,\"title\":\"Alchemy\",\"online_title\":\"online_alchemy\",\"offline_title\":\"classroom-web-development-course\",\"name\":\"Web Development with Ruby on Rails\",\"level\":\"Advanced Courses\",\"brief_intro\":\"Brief Intro\",\"preview_image_url\":\"https://ninjasfiles.s3.amazonaws.com/0000000000001179.png\",\"available_online\":false,\"available_offline\":true,\"is_career_track\":false},{\"id\":13,\"title\":\"Data Science \\u0026 Machine Learning Complete\",\"online_title\":\"online-data-science-course\",\"offline_title\":\"\",\"name\":\"Data Science \\u0026 Machine Learning Complete\",\"level\":\"Advanced Courses\",\"brief_intro\":\"Brief Intro\",\"preview_image_url\":\"https://ninjasfiles.s3.amazonaws.com/0000000000001371.png\",\"available_online\":true,\"available_offline\":false,\"is_career_track\":false},{\"id\":32,\"title\":\"Inception\",\"online_title\":\"c-plus-plus-course-live\",\"offline_title\":\"classroom-c-plus-plus-course\",\"name\":\"C++ Foundation with Data Structures Live\",\"level\":\"Live+ Courses\",\"brief_intro\":\"Brief Intro\",\"preview_image_url\":\"https://ninjasfiles.s3.amazonaws.com/0000000000001176.png\",\"available_online\":true,\"available_offline\":false,\"is_career_track\":false},{\"id\":12,\"title\":\"Full Stack Web Development Course\",\"online_title\":\"online-full-stack-node-js-web-dev-course\",\"offline_title\":\"\",\"name\":\"Full Stack Web Development\",\"level\":\"Development Courses\",\"brief_intro\":\"Web Development\",\"preview_image_url\":\"https://ninjasfiles.s3.amazonaws.com/0000000000001179.png\",\"available_online\":true,\"available_offline\":false,\"is_career_track\":false},{\"id\":34,\"title\":\"Advanced  Front-End Web Development with React\",\"online_title\":\"online-web-dev-with-react\",\"offline_title\":\"\",\"name\":\"Advanced  Front-End Web Development with React\",\"level\":\"Development Courses\",\"brief_intro\":\"Advanced  Front-End Web Development with React\",\"preview_image_url\":\"https://ninjasfiles.s3.amazonaws.com/0000000000001179.png\",\"available_online\":true,\"available_offline\":false,\"is_career_track\":false},{\"id\":11,\"title\":\"Python\",\"online_title\":\"online-python-course\",\"offline_title\":\"offline-python-course\",\"name\":\"Python Foundation with Data Structures\",\"level\":\"Foundation Courses\",\"brief_intro\":\"Python Foundation\",\"preview_image_url\":\"https://ninjasfiles.s3.amazonaws.com/0000000000001282.png\",\"available_online\":true,\"available_offline\":false,\"is_career_track\":false},{\"id\":35,\"title\":\"Ninja Android Developer Career Track \",\"online_title\":\"online-android-development-career-track\",\"offline_title\":\"\",\"name\":\"Ninja Android Developer Career Track \",\"level\":\"Career Tracks\",\"brief_intro\":\"beginner to pro Android Developer!\",\"preview_image_url\":\"https://ninjasfiles.s3.amazonaws.com/0000000000001175.png\",\"available_online\":true,\"available_offline\":false,\"is_career_track\":true},{\"id\":1,\"title\":\"Inception\",\"online_title\":\"onlline-c-plus-plus-course\",\"offline_title\":\"classroom-c-plus-plus-course\",\"name\":\"C++ Foundation with Data Structures\",\"level\":\"Foundation Courses\",\"brief_intro\":\"Brief Intro\",\"preview_image_url\":\"https://ninjasfiles.s3.amazonaws.com/0000000000001176.png\",\"available_online\":true,\"available_offline\":false,\"is_career_track\":false},{\"id\":17,\"title\":\"Programming Foundation DS \\u0026 Algo + Full Stack Web Dev\",\"online_title\":\"web-developer-career-track\",\"offline_title\":\"\",\"name\":\"Ninja  Web Developer Career Track - NodeJS\",\"level\":\"Career Tracks\",\"brief_intro\":\"Programming foundation + Full Stack Web Development Career Track\",\"preview_image_url\":\"https://ninjasfiles.s3.amazonaws.com/0000000000001179.png\",\"available_online\":true,\"available_offline\":false,\"is_career_track\":true},{\"id\":2,\"title\":\"Nucleus\",\"online_title\":\"online-java-course\",\"offline_title\":\"classroom-java-course\",\"name\":\"JAVA Foundation with Data Structures\",\"level\":\"Foundation Courses\",\"brief_intro\":\"Brief Intro\",\"preview_image_url\":\"https://ninjasfiles.s3.amazonaws.com/0000000000001255.png\",\"available_online\":true,\"available_offline\":false,\"is_career_track\":false},{\"id\":3,\"title\":\"Envision\",\"online_title\":\"online-android-app-development-course\",\"offline_title\":\"classroom-android-app-development-course\",\"name\":\"Android Application Development\",\"level\":\"Advanced Courses\",\"brief_intro\":\"Brief Intro\",\"preview_image_url\":\"https://ninjasfiles.s3.amazonaws.com/0000000000001175.png\",\"available_online\":false,\"available_offline\":true,\"is_career_track\":false},{\"id\":4,\"title\":\"Interview Preparation\",\"online_title\":\"online-interview-preparation\",\"offline_title\":\"classroom-interview-preparation\",\"name\":\"Interview Preparation Course\",\"level\":\"Advanced Courses\",\"brief_intro\":\"Brief Intro\",\"preview_image_url\":\"https://ninjasfiles.s3.amazonaws.com/0000000000001178.png\",\"available_online\":true,\"available_offline\":false,\"is_career_track\":false},{\"id\":36,\"title\":\"Programming Foundation DS \\u0026 Algo + MERN Stack Web Dev\",\"online_title\":\"ninja-web-developer-career-track-mern-stack\",\"offline_title\":\"\",\"name\":\"Ninja  Web Developer Career Track - NodeJS \\u0026 ReactJs\",\"level\":\"Career Tracks\",\"brief_intro\":\"Programming foundation + MERN Stack Web Development complete Career Track\",\"preview_image_url\":\"https://ninjasfiles.s3.amazonaws.com/0000000000001179.png\",\"available_online\":true,\"available_offline\":false,\"is_career_track\":true},{\"id\":6,\"title\":\"Machine Learning Course\",\"online_title\":\"online-machine-learning-course\",\"offline_title\":\"classroom-machine-learning-course\",\"name\":\"Machine Learning Course\",\"level\":\"Advanced Courses\",\"brief_intro\":\"Machine learning engineers build, implement, and maintain machine learning systems in technology products.\",\"preview_image_url\":\"https://ninjasfiles.s3.amazonaws.com/0000000000001181.png\",\"available_online\":true,\"available_offline\":false,\"is_career_track\":false},{\"id\":10,\"title\":\"Competitive Programming\",\"online_title\":\"online-competitive-programming-course\",\"offline_title\":\"\",\"name\":\"Competitive Programming Course\",\"level\":\"Advanced Courses\",\"brief_intro\":\"Eminence\",\"preview_image_url\":\"https://ninjasfiles.s3.amazonaws.com/0000000000001177.png\",\"available_online\":true,\"available_offline\":false,\"is_career_track\":false},{\"id\":16,\"title\":\"Ninja Competitive Programmer Track\",\"online_title\":\"online-competitive-programming-track\",\"offline_title\":\"\",\"name\":\"Ninja Competitive Programmer Track\",\"level\":\"Career Tracks\",\"brief_intro\":\"Competitive Track\",\"preview_image_url\":\"https://ninjasfiles.s3.amazonaws.com/0000000000001177.png\",\"available_online\":true,\"available_offline\":false,\"is_career_track\":true},{\"id\":19,\"title\":\"Programming Foundation DS \\u0026 Algo + Machine Learning\",\"online_title\":\"machine-learning-engineer-career-track\",\"offline_title\":\"\",\"name\":\"Ninja Machine Learning Engineer Career Track\",\"level\":\"Career Tracks\",\"brief_intro\":\"Programming foundation + Machine Learning career track\",\"preview_image_url\":\"https://ninjasfiles.s3.amazonaws.com/0000000000001181.png\",\"available_online\":true,\"available_offline\":false,\"is_career_track\":true},{\"id\":18,\"title\":\"Ninja Data Scientist Career Track\",\"online_title\":\"data-Scientist-career-track\",\"offline_title\":\"\",\"name\":\"Ninja Data Scientist Career Track\",\"level\":\"Career Tracks\",\"brief_intro\":\"Programming foundation + Data Science with ML career track\",\"preview_image_url\":\"https://ninjasfiles.s3.amazonaws.com/0000000000001371.png\",\"available_online\":true,\"available_offline\":false,\"is_career_track\":true}]},\"message\":\"Courses\",\"status\":200,\"error\":null,\"disabled\":false,\"update\":false,\"external_rating\":null}\n"
     ]
    }
   ],
   "source": [
    "import requests\n",
    "\n",
    "a = requests.get('https://codingninjas.in/api/v3/courses')\n",
    "print(a.status_code)\n",
    "print(a.encoding)\n",
    "print(a.url)\n",
    "ha = a.headers\n",
    "print(ha)\n",
    "print()\n",
    "print(ha['Date'])\n",
    "print()\n",
    "print(a.text)"
   ]
  },
  {
   "cell_type": "markdown",
   "metadata": {},
   "source": [
    "#### 3) JSON"
   ]
  },
  {
   "cell_type": "code",
   "execution_count": 44,
   "metadata": {},
   "outputs": [
    {
     "name": "stdout",
     "output_type": "stream",
     "text": [
      "{'Name': 'Mudit', 'Roll': 1010}\n"
     ]
    },
    {
     "data": {
      "text/plain": [
       "'Mudit'"
      ]
     },
     "execution_count": 44,
     "metadata": {},
     "output_type": "execute_result"
    }
   ],
   "source": [
    "import json\n",
    "\n",
    "json_data = '{\"Student\" : {\"Name\" : \"Mudit\", \"Roll\" : 1010}}'\n",
    "python_data = json.loads(json_data)\n",
    "print(python_data['Student'])\n",
    "student_info = python_data['Student']\n",
    "student_info['Name']"
   ]
  },
  {
   "cell_type": "code",
   "execution_count": 45,
   "metadata": {},
   "outputs": [
    {
     "name": "stdout",
     "output_type": "stream",
     "text": [
      "Aptitude Preparation Course\n",
      "Android Development with Kotlin\n",
      "Alchemy\n",
      "Data Science & Machine Learning Complete\n",
      "Inception\n",
      "Full Stack Web Development Course\n",
      "Advanced  Front-End Web Development with React\n",
      "Python\n",
      "Ninja Android Developer Career Track \n",
      "Inception\n",
      "Programming Foundation DS & Algo + Full Stack Web Dev\n",
      "Nucleus\n",
      "Envision\n",
      "Interview Preparation\n",
      "Programming Foundation DS & Algo + MERN Stack Web Dev\n",
      "Machine Learning Course\n",
      "Competitive Programming\n",
      "Ninja Competitive Programmer Track\n",
      "Programming Foundation DS & Algo + Machine Learning\n",
      "Ninja Data Scientist Career Track\n"
     ]
    }
   ],
   "source": [
    "import json\n",
    "import requests\n",
    "response = requests.get('https://codingninjas.in/api/v3/courses')\n",
    "\n",
    "json_data = json.loads(response.text)\n",
    "all_courses = json_data['data']['courses']\n",
    "#print(all_courses)\n",
    "for i in all_courses:\n",
    "    print(i['title'])"
   ]
  },
  {
   "cell_type": "markdown",
   "metadata": {},
   "source": [
    "#### 4) Real LIfe API call and implementation"
   ]
  },
  {
   "cell_type": "code",
   "execution_count": 46,
   "metadata": {},
   "outputs": [
    {
     "name": "stdout",
     "output_type": "stream",
     "text": [
      "blenheim\n",
      "brittany\n",
      "cocker\n",
      "irish\n",
      "japanese\n",
      "sussex\n",
      "welsh\n"
     ]
    }
   ],
   "source": [
    "# Note the API we are taking here is from dog.ceo/dog-api/\n",
    "import requests\n",
    "\n",
    "p = requests.get('https://dog.ceo/api/breeds/list/all')\n",
    "python_data = p.json()\n",
    "#print(python_data)\n",
    "\n",
    "#for key,val in python_data['message'].items():\n",
    "#    print(key,\":\",len(val))\n",
    "\n",
    "for i in python_data['message']['spaniel']:\n",
    "    print(i)"
   ]
  },
  {
   "cell_type": "markdown",
   "metadata": {},
   "source": [
    "#### 5) Parameters can also be passed in .get like for example number of limit,particular country etc.\n",
    "\n",
    "Depends on docuentation"
   ]
  },
  {
   "cell_type": "code",
   "execution_count": 47,
   "metadata": {},
   "outputs": [
    {
     "name": "stdout",
     "output_type": "stream",
     "text": [
      "Adelaide\n",
      "Bairnsdale\n",
      "Bairnsdale \n",
      "Bright\n",
      "Campbellfield\n"
     ]
    }
   ],
   "source": [
    "## Print the required output in given format\n",
    "import requests\n",
    "\n",
    "p = requests.get('https://api.openaq.org/v1/cities/', params = {'country': 'AU','limit' : '5','order_by' : 'city'} )\n",
    "python_data = p.json()\n",
    "\n",
    "for i in python_data['results']: \n",
    "        print(i['city'])"
   ]
  },
  {
   "cell_type": "markdown",
   "metadata": {},
   "source": [
    "#### 6) POST request\n",
    "\n",
    "Just as we can call an API, we can write in it as well.This is difficult as most companies don't allow writting to an API'"
   ]
  },
  {
   "cell_type": "code",
   "execution_count": 41,
   "metadata": {},
   "outputs": [
    {
     "data": {
      "text/plain": [
       "\"\\nimport requests\\n\\np = requests.post('http://httpbin.org/post', data = {'Key1' : ['val1','val2'], 'key2' : 'val3'} )\\n\\nprint(p.text)\\n\""
      ]
     },
     "execution_count": 41,
     "metadata": {},
     "output_type": "execute_result"
    }
   ],
   "source": [
    "'''\n",
    "import requests\n",
    "\n",
    "p = requests.post('http://httpbin.org/post', data = {'Key1' : ['val1','val2'], 'key2' : 'val3'} )\n",
    "\n",
    "print(p.text)\n",
    "'''"
   ]
  },
  {
   "cell_type": "markdown",
   "metadata": {},
   "source": [
    "#### 7) Authorization - To give ID and password while accessing a API - HTTP BasicAuthentication"
   ]
  },
  {
   "cell_type": "code",
   "execution_count": 48,
   "metadata": {},
   "outputs": [
    {
     "name": "stdout",
     "output_type": "stream",
     "text": [
      "200\n"
     ]
    }
   ],
   "source": [
    "#https://api.github.com/user\n",
    "\n",
    "import requests\n",
    "\n",
    "from requests.auth import HTTPBasicAuth\n",
    "\n",
    "a = requests.get('https://api.github.com/user', auth = ('nidhi@codingninjas.in','cnninjas123'))\n",
    "print(a.status_code)"
   ]
  },
  {
   "cell_type": "markdown",
   "metadata": {},
   "source": [
    "We can also make a repo and do a lot of things through API calls itself"
   ]
  },
  {
   "cell_type": "code",
   "execution_count": 49,
   "metadata": {},
   "outputs": [
    {
     "data": {
      "text/plain": [
       "\"\\nimport json\\n\\ninfo = {'name' : 'test_repo', 'description' : 'Created via API call', 'auto_init' : 'true'}\\na = requests.post('https://api.github.com/user', auth = ('nidhi@codingninjas.in','cnninjas123'),data = json.dumps(info))\\n\\n\""
      ]
     },
     "execution_count": 49,
     "metadata": {},
     "output_type": "execute_result"
    }
   ],
   "source": [
    "'''\n",
    "import json\n",
    "\n",
    "info = {'name' : 'test_repo', 'description' : 'Created via API call', 'auto_init' : 'true'}\n",
    "a = requests.post('https://api.github.com/user', auth = ('nidhi@codingninjas.in','cnninjas123'),data = json.dumps(info))\n",
    "\n",
    "'''\n",
    "# json.dumps is done to covert Dictionary to Json"
   ]
  },
  {
   "cell_type": "markdown",
   "metadata": {},
   "source": [
    "#### 8) OAuth\n",
    "\n",
    "Open Authenticatio - This kind of authentication takes place without ID and password"
   ]
  },
  {
   "cell_type": "markdown",
   "metadata": {},
   "source": [
    "For eg . If coding Ninjas wants your FB info, it asks you for permission when logging in etc.\n",
    "\n",
    "Then a token is generated which Coding Ninjas gives to Facebook, FB authenticates that token and gives access to the info"
   ]
  },
  {
   "cell_type": "code",
   "execution_count": 50,
   "metadata": {},
   "outputs": [],
   "source": [
    "# To access some public posts and comments from reddit\n",
    "# github.com/reddit-archive/reddit/wiki/OAuth2 - Complete process on how to do\n"
   ]
  }
 ],
 "metadata": {
  "kernelspec": {
   "display_name": "Python 3",
   "language": "python",
   "name": "python3"
  },
  "language_info": {
   "codemirror_mode": {
    "name": "ipython",
    "version": 3
   },
   "file_extension": ".py",
   "mimetype": "text/x-python",
   "name": "python",
   "nbconvert_exporter": "python",
   "pygments_lexer": "ipython3",
   "version": "3.6.4"
  }
 },
 "nbformat": 4,
 "nbformat_minor": 2
}
